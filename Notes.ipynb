{
 "cells": [
  {
   "cell_type": "code",
   "execution_count": 1,
   "metadata": {},
   "outputs": [],
   "source": [
    "import sympy as sym\n",
    "\n",
    "z, t, birth, death, init_size = sym.symbols('z t b d n_0')\n",
    "\n",
    "f = ((1-death*((z-1)/(birth*z - death))*sym.exp((birth - death)*t))/(1-((z-1)/(birth*z - death))*sym.exp((birth - death)*t)))"
   ]
  },
  {
   "cell_type": "code",
   "execution_count": null,
   "metadata": {},
   "outputs": [],
   "source": [
    "f = sym.simplify(f)\n",
    "f"
   ]
  },
  {
   "cell_type": "code",
   "execution_count": 16,
   "metadata": {},
   "outputs": [
    {
     "data": {
      "text/latex": [
       "$\\displaystyle - \\frac{d e^{t \\left(b - d\\right)}}{d - e^{b t - d t}} + \\frac{d}{d - e^{b t - d t}} + z^{3} \\left(- \\frac{b \\left(- \\frac{b}{d - e^{t \\left(b - d\\right)}} + \\frac{e^{t \\left(b - d\\right)}}{d - e^{t \\left(b - d\\right)}}\\right)^{2}}{d - e^{b t - d t}} + \\frac{d \\left(- \\frac{b}{d - e^{t \\left(b - d\\right)}} + \\frac{e^{t \\left(b - d\\right)}}{d - e^{t \\left(b - d\\right)}}\\right)^{3} e^{t \\left(b - d\\right)}}{d - e^{b t - d t}} - \\frac{d \\left(- \\frac{b}{d - e^{t \\left(b - d\\right)}} + \\frac{e^{t \\left(b - d\\right)}}{d - e^{t \\left(b - d\\right)}}\\right)^{3}}{d - e^{b t - d t}} + \\frac{d \\left(- \\frac{b}{d - e^{t \\left(b - d\\right)}} + \\frac{e^{t \\left(b - d\\right)}}{d - e^{t \\left(b - d\\right)}}\\right)^{2} e^{t \\left(b - d\\right)}}{d - e^{b t - d t}}\\right) + z^{2} \\left(- \\frac{b \\left(\\frac{b}{d - e^{t \\left(b - d\\right)}} - \\frac{e^{t \\left(b - d\\right)}}{d - e^{t \\left(b - d\\right)}}\\right)}{d - e^{b t - d t}} - \\frac{d \\left(- \\frac{b}{d - e^{t \\left(b - d\\right)}} + \\frac{e^{t \\left(b - d\\right)}}{d - e^{t \\left(b - d\\right)}}\\right)^{2} e^{t \\left(b - d\\right)}}{d - e^{b t - d t}} + \\frac{d \\left(- \\frac{b}{d - e^{t \\left(b - d\\right)}} + \\frac{e^{t \\left(b - d\\right)}}{d - e^{t \\left(b - d\\right)}}\\right)^{2}}{d - e^{b t - d t}} + \\frac{d \\left(\\frac{b}{d - e^{t \\left(b - d\\right)}} - \\frac{e^{t \\left(b - d\\right)}}{d - e^{t \\left(b - d\\right)}}\\right) e^{t \\left(b - d\\right)}}{d - e^{b t - d t}}\\right) + z \\left(- \\frac{b}{d - e^{b t - d t}} - \\frac{d \\left(\\frac{b}{d - e^{t \\left(b - d\\right)}} - \\frac{e^{t \\left(b - d\\right)}}{d - e^{t \\left(b - d\\right)}}\\right) e^{t \\left(b - d\\right)}}{d - e^{b t - d t}} + \\frac{d \\left(\\frac{b}{d - e^{t \\left(b - d\\right)}} - \\frac{e^{t \\left(b - d\\right)}}{d - e^{t \\left(b - d\\right)}}\\right)}{d - e^{b t - d t}} + \\frac{d e^{t \\left(b - d\\right)}}{d - e^{b t - d t}}\\right)$"
      ],
      "text/plain": [
       "-d*exp(t*(b - d))/(d - exp(b*t - d*t)) + d/(d - exp(b*t - d*t)) + z**3*(-b*(-b/(d - exp(t*(b - d))) + exp(t*(b - d))/(d - exp(t*(b - d))))**2/(d - exp(b*t - d*t)) + d*(-b/(d - exp(t*(b - d))) + exp(t*(b - d))/(d - exp(t*(b - d))))**3*exp(t*(b - d))/(d - exp(b*t - d*t)) - d*(-b/(d - exp(t*(b - d))) + exp(t*(b - d))/(d - exp(t*(b - d))))**3/(d - exp(b*t - d*t)) + d*(-b/(d - exp(t*(b - d))) + exp(t*(b - d))/(d - exp(t*(b - d))))**2*exp(t*(b - d))/(d - exp(b*t - d*t))) + z**2*(-b*(b/(d - exp(t*(b - d))) - exp(t*(b - d))/(d - exp(t*(b - d))))/(d - exp(b*t - d*t)) - d*(-b/(d - exp(t*(b - d))) + exp(t*(b - d))/(d - exp(t*(b - d))))**2*exp(t*(b - d))/(d - exp(b*t - d*t)) + d*(-b/(d - exp(t*(b - d))) + exp(t*(b - d))/(d - exp(t*(b - d))))**2/(d - exp(b*t - d*t)) + d*(b/(d - exp(t*(b - d))) - exp(t*(b - d))/(d - exp(t*(b - d))))*exp(t*(b - d))/(d - exp(b*t - d*t))) + z*(-b/(d - exp(b*t - d*t)) - d*(b/(d - exp(t*(b - d))) - exp(t*(b - d))/(d - exp(t*(b - d))))*exp(t*(b - d))/(d - exp(b*t - d*t)) + d*(b/(d - exp(t*(b - d))) - exp(t*(b - d))/(d - exp(t*(b - d))))/(d - exp(b*t - d*t)) + d*exp(t*(b - d))/(d - exp(b*t - d*t)))"
      ]
     },
     "execution_count": 16,
     "metadata": {},
     "output_type": "execute_result"
    }
   ],
   "source": [
    "taylor = f.series(z, 0, n=4).removeO()\n",
    "\n",
    "taylor"
   ]
  },
  {
   "cell_type": "code",
   "execution_count": 20,
   "metadata": {},
   "outputs": [
    {
     "data": {
      "text/latex": [
       "$\\displaystyle \\frac{d \\left(1 - e^{t \\left(b - d\\right)}\\right) \\left(d - e^{t \\left(b - d\\right)}\\right)^{3} + z^{3} \\left(b - e^{t \\left(b - d\\right)}\\right)^{2} \\left(d \\left(1 - e^{t \\left(b - d\\right)}\\right) \\left(b - e^{t \\left(b - d\\right)}\\right) + \\left(- b + d e^{t \\left(b - d\\right)}\\right) \\left(d - e^{t \\left(b - d\\right)}\\right)\\right) + z^{2} \\left(b - e^{t \\left(b - d\\right)}\\right) \\left(d - e^{t \\left(b - d\\right)}\\right) \\left(d \\left(1 - e^{t \\left(b - d\\right)}\\right) \\left(b - e^{t \\left(b - d\\right)}\\right) + \\left(- b + d e^{t \\left(b - d\\right)}\\right) \\left(d - e^{t \\left(b - d\\right)}\\right)\\right) - z \\left(d - e^{t \\left(b - d\\right)}\\right)^{2} \\left(- d \\left(1 - e^{t \\left(b - d\\right)}\\right) \\left(b - e^{t \\left(b - d\\right)}\\right) + \\left(b - d e^{t \\left(b - d\\right)}\\right) \\left(d - e^{t \\left(b - d\\right)}\\right)\\right)}{\\left(d - e^{t \\left(b - d\\right)}\\right)^{4}}$"
      ],
      "text/plain": [
       "(d*(1 - exp(t*(b - d)))*(d - exp(t*(b - d)))**3 + z**3*(b - exp(t*(b - d)))**2*(d*(1 - exp(t*(b - d)))*(b - exp(t*(b - d))) + (-b + d*exp(t*(b - d)))*(d - exp(t*(b - d)))) + z**2*(b - exp(t*(b - d)))*(d - exp(t*(b - d)))*(d*(1 - exp(t*(b - d)))*(b - exp(t*(b - d))) + (-b + d*exp(t*(b - d)))*(d - exp(t*(b - d)))) - z*(d - exp(t*(b - d)))**2*(-d*(1 - exp(t*(b - d)))*(b - exp(t*(b - d))) + (b - d*exp(t*(b - d)))*(d - exp(t*(b - d)))))/(d - exp(t*(b - d)))**4"
      ]
     },
     "execution_count": 20,
     "metadata": {},
     "output_type": "execute_result"
    }
   ],
   "source": [
    "simptaylor = sym.simplify(taylor)\n",
    "simptaylor"
   ]
  },
  {
   "cell_type": "code",
   "execution_count": 21,
   "metadata": {},
   "outputs": [
    {
     "data": {
      "text/plain": [
       "[0, 0, 0, 0]"
      ]
     },
     "execution_count": 21,
     "metadata": {},
     "output_type": "execute_result"
    }
   ],
   "source": [
    "coefficients = [simptaylor.coeff(z, n) for n in range(4)]\n",
    "coefficients"
   ]
  }
 ],
 "metadata": {
  "kernelspec": {
   "display_name": "Python 3",
   "language": "python",
   "name": "python3"
  },
  "language_info": {
   "codemirror_mode": {
    "name": "ipython",
    "version": 3
   },
   "file_extension": ".py",
   "mimetype": "text/x-python",
   "name": "python",
   "nbconvert_exporter": "python",
   "pygments_lexer": "ipython3",
   "version": "3.11.3"
  },
  "orig_nbformat": 4
 },
 "nbformat": 4,
 "nbformat_minor": 2
}
