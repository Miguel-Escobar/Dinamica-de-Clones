{
 "cells": [
  {
   "cell_type": "markdown",
   "metadata": {},
   "source": [
    "# Cuaderno misceláneo de notas"
   ]
  },
  {
   "cell_type": "code",
   "execution_count": 1,
   "metadata": {},
   "outputs": [],
   "source": [
    "import sympy as sym\n",
    "\n",
    "z, t, birth, death, init_size = sym.symbols('z t b d n_0')\n",
    "\n",
    "f = ((1-death*((z-1)/(birth*z - death))*sym.exp((birth - death)*t))/(1-((z-1)/(birth*z - death))*sym.exp((birth - death)*t)))"
   ]
  },
  {
   "cell_type": "code",
   "execution_count": null,
   "metadata": {},
   "outputs": [],
   "source": [
    "f = sym.simplify(f)\n",
    "f"
   ]
  },
  {
   "cell_type": "code",
   "execution_count": 16,
   "metadata": {},
   "outputs": [
    {
     "data": {
      "text/latex": [
       "$\\displaystyle - \\frac{d e^{t \\left(b - d\\right)}}{d - e^{b t - d t}} + \\frac{d}{d - e^{b t - d t}} + z^{3} \\left(- \\frac{b \\left(- \\frac{b}{d - e^{t \\left(b - d\\right)}} + \\frac{e^{t \\left(b - d\\right)}}{d - e^{t \\left(b - d\\right)}}\\right)^{2}}{d - e^{b t - d t}} + \\frac{d \\left(- \\frac{b}{d - e^{t \\left(b - d\\right)}} + \\frac{e^{t \\left(b - d\\right)}}{d - e^{t \\left(b - d\\right)}}\\right)^{3} e^{t \\left(b - d\\right)}}{d - e^{b t - d t}} - \\frac{d \\left(- \\frac{b}{d - e^{t \\left(b - d\\right)}} + \\frac{e^{t \\left(b - d\\right)}}{d - e^{t \\left(b - d\\right)}}\\right)^{3}}{d - e^{b t - d t}} + \\frac{d \\left(- \\frac{b}{d - e^{t \\left(b - d\\right)}} + \\frac{e^{t \\left(b - d\\right)}}{d - e^{t \\left(b - d\\right)}}\\right)^{2} e^{t \\left(b - d\\right)}}{d - e^{b t - d t}}\\right) + z^{2} \\left(- \\frac{b \\left(\\frac{b}{d - e^{t \\left(b - d\\right)}} - \\frac{e^{t \\left(b - d\\right)}}{d - e^{t \\left(b - d\\right)}}\\right)}{d - e^{b t - d t}} - \\frac{d \\left(- \\frac{b}{d - e^{t \\left(b - d\\right)}} + \\frac{e^{t \\left(b - d\\right)}}{d - e^{t \\left(b - d\\right)}}\\right)^{2} e^{t \\left(b - d\\right)}}{d - e^{b t - d t}} + \\frac{d \\left(- \\frac{b}{d - e^{t \\left(b - d\\right)}} + \\frac{e^{t \\left(b - d\\right)}}{d - e^{t \\left(b - d\\right)}}\\right)^{2}}{d - e^{b t - d t}} + \\frac{d \\left(\\frac{b}{d - e^{t \\left(b - d\\right)}} - \\frac{e^{t \\left(b - d\\right)}}{d - e^{t \\left(b - d\\right)}}\\right) e^{t \\left(b - d\\right)}}{d - e^{b t - d t}}\\right) + z \\left(- \\frac{b}{d - e^{b t - d t}} - \\frac{d \\left(\\frac{b}{d - e^{t \\left(b - d\\right)}} - \\frac{e^{t \\left(b - d\\right)}}{d - e^{t \\left(b - d\\right)}}\\right) e^{t \\left(b - d\\right)}}{d - e^{b t - d t}} + \\frac{d \\left(\\frac{b}{d - e^{t \\left(b - d\\right)}} - \\frac{e^{t \\left(b - d\\right)}}{d - e^{t \\left(b - d\\right)}}\\right)}{d - e^{b t - d t}} + \\frac{d e^{t \\left(b - d\\right)}}{d - e^{b t - d t}}\\right)$"
      ],
      "text/plain": [
       "-d*exp(t*(b - d))/(d - exp(b*t - d*t)) + d/(d - exp(b*t - d*t)) + z**3*(-b*(-b/(d - exp(t*(b - d))) + exp(t*(b - d))/(d - exp(t*(b - d))))**2/(d - exp(b*t - d*t)) + d*(-b/(d - exp(t*(b - d))) + exp(t*(b - d))/(d - exp(t*(b - d))))**3*exp(t*(b - d))/(d - exp(b*t - d*t)) - d*(-b/(d - exp(t*(b - d))) + exp(t*(b - d))/(d - exp(t*(b - d))))**3/(d - exp(b*t - d*t)) + d*(-b/(d - exp(t*(b - d))) + exp(t*(b - d))/(d - exp(t*(b - d))))**2*exp(t*(b - d))/(d - exp(b*t - d*t))) + z**2*(-b*(b/(d - exp(t*(b - d))) - exp(t*(b - d))/(d - exp(t*(b - d))))/(d - exp(b*t - d*t)) - d*(-b/(d - exp(t*(b - d))) + exp(t*(b - d))/(d - exp(t*(b - d))))**2*exp(t*(b - d))/(d - exp(b*t - d*t)) + d*(-b/(d - exp(t*(b - d))) + exp(t*(b - d))/(d - exp(t*(b - d))))**2/(d - exp(b*t - d*t)) + d*(b/(d - exp(t*(b - d))) - exp(t*(b - d))/(d - exp(t*(b - d))))*exp(t*(b - d))/(d - exp(b*t - d*t))) + z*(-b/(d - exp(b*t - d*t)) - d*(b/(d - exp(t*(b - d))) - exp(t*(b - d))/(d - exp(t*(b - d))))*exp(t*(b - d))/(d - exp(b*t - d*t)) + d*(b/(d - exp(t*(b - d))) - exp(t*(b - d))/(d - exp(t*(b - d))))/(d - exp(b*t - d*t)) + d*exp(t*(b - d))/(d - exp(b*t - d*t)))"
      ]
     },
     "execution_count": 16,
     "metadata": {},
     "output_type": "execute_result"
    }
   ],
   "source": [
    "taylor = f.series(z, 0, n=4).removeO()\n",
    "\n",
    "taylor"
   ]
  },
  {
   "cell_type": "code",
   "execution_count": 20,
   "metadata": {},
   "outputs": [
    {
     "data": {
      "text/latex": [
       "$\\displaystyle \\frac{d \\left(1 - e^{t \\left(b - d\\right)}\\right) \\left(d - e^{t \\left(b - d\\right)}\\right)^{3} + z^{3} \\left(b - e^{t \\left(b - d\\right)}\\right)^{2} \\left(d \\left(1 - e^{t \\left(b - d\\right)}\\right) \\left(b - e^{t \\left(b - d\\right)}\\right) + \\left(- b + d e^{t \\left(b - d\\right)}\\right) \\left(d - e^{t \\left(b - d\\right)}\\right)\\right) + z^{2} \\left(b - e^{t \\left(b - d\\right)}\\right) \\left(d - e^{t \\left(b - d\\right)}\\right) \\left(d \\left(1 - e^{t \\left(b - d\\right)}\\right) \\left(b - e^{t \\left(b - d\\right)}\\right) + \\left(- b + d e^{t \\left(b - d\\right)}\\right) \\left(d - e^{t \\left(b - d\\right)}\\right)\\right) - z \\left(d - e^{t \\left(b - d\\right)}\\right)^{2} \\left(- d \\left(1 - e^{t \\left(b - d\\right)}\\right) \\left(b - e^{t \\left(b - d\\right)}\\right) + \\left(b - d e^{t \\left(b - d\\right)}\\right) \\left(d - e^{t \\left(b - d\\right)}\\right)\\right)}{\\left(d - e^{t \\left(b - d\\right)}\\right)^{4}}$"
      ],
      "text/plain": [
       "(d*(1 - exp(t*(b - d)))*(d - exp(t*(b - d)))**3 + z**3*(b - exp(t*(b - d)))**2*(d*(1 - exp(t*(b - d)))*(b - exp(t*(b - d))) + (-b + d*exp(t*(b - d)))*(d - exp(t*(b - d)))) + z**2*(b - exp(t*(b - d)))*(d - exp(t*(b - d)))*(d*(1 - exp(t*(b - d)))*(b - exp(t*(b - d))) + (-b + d*exp(t*(b - d)))*(d - exp(t*(b - d)))) - z*(d - exp(t*(b - d)))**2*(-d*(1 - exp(t*(b - d)))*(b - exp(t*(b - d))) + (b - d*exp(t*(b - d)))*(d - exp(t*(b - d)))))/(d - exp(t*(b - d)))**4"
      ]
     },
     "execution_count": 20,
     "metadata": {},
     "output_type": "execute_result"
    }
   ],
   "source": [
    "simptaylor = sym.simplify(taylor)\n",
    "simptaylor"
   ]
  },
  {
   "cell_type": "code",
   "execution_count": 21,
   "metadata": {},
   "outputs": [
    {
     "data": {
      "text/plain": [
       "[0, 0, 0, 0]"
      ]
     },
     "execution_count": 21,
     "metadata": {},
     "output_type": "execute_result"
    }
   ],
   "source": [
    "coefficients = [simptaylor.coeff(z, n) for n in range(4)]\n",
    "coefficients"
   ]
  },
  {
   "cell_type": "markdown",
   "metadata": {},
   "source": [
    "#### Extensión del modelo a los clones de tamaño 1:\n",
    "\n",
    "Yo cuando chico en verdad me encantaban los clones de tamaño 1, mi familia siempre me decía oye Migue tu ¿cuándo vas a dejar de fitear cosas considerando los clones de tamaño 1? Y yo decía \"¡Nunca!\". Por eso, en este cuaderno vamos a extender el modelo a los clones de tamaño 1."
   ]
  },
  {
   "cell_type": "code",
   "execution_count": null,
   "metadata": {},
   "outputs": [],
   "source": [
    "import crit_size_model as csm\n",
    "import exp_sum_model as esm\n",
    "import numpy as np\n",
    "import matplotlib.pyplot as plt\n",
    "from pandas import read_csv"
   ]
  },
  {
   "cell_type": "markdown",
   "metadata": {},
   "source": [
    "# ¿Por qué hay comportamiento suave?\n",
    "\n",
    "En el modelo nulo deberíamos ver una recta. Al simular el modelo alterado, por chance hay unos clones que llegan ants al tamaño crítico. el comportamiento suave es por que la heaviside depende del n(t), que es una variable aleatoria. El tiempo donde se alcanza el tamaño n debería distribuir como una gamma. Algunos clones transitan antes que otros, y contribuyen de distinta manera a la cola.\n",
    "\n",
    "# ¿Cómo asegurar un n_crítico decente?\n",
    "\n",
    "Puedo correr la optimización con un rango de n_crit iniciales, x ej +- 50%, y ver cuál resulta mejor (rscore). Como no son tantos, debería ser posible.\n",
    "\n",
    "Si tengo un rango muy amplio, puedo hacer un sampleo o algo así. Para esto no debería ser necesario.\n",
    "\n",
    "# Tema biexponencial:\n",
    "\n",
    "Hay que iniciar el modelo con una fracción de cada población. Esto estaba en el suplemento del artículo en Nature.\n",
    "\n",
    "Modelo: Fracción de población, nacimiento1, nacimiento2.\n",
    "\n",
    "Lo hago evolucionar, después ajusto esto.\n",
    "\n",
    "También es analítica, hay que ver lo del artículo (con r = 1, o 0), esto ajustarlo. Puedo basarme en los resultados de mi modelo. (nacimiento de 1 población: birth_rate, nacimiento de 2: birth_rate*delta, fs es el intercepto de la cola con el eje y).\n",
    "\n",
    "Lo más seguro es que ajuste bien. Hay que usar argumentos experimentales para justificar nuestro modelo. Es poco probable que sean mutaciones porque vemos una distribución exponencial de la cola. \n",
    "\n",
    "Si fueran mutaciones, la capacidad de mutar debería ser similar. No se verían 2 comportamientos. Se vería una ley de potencia (clones más grandes tienden a crecer más rápido y mutar más) (pedir ayuda a Bordeu)."
   ]
  },
  {
   "cell_type": "markdown",
   "metadata": {},
   "source": [
    "# Distribución de probabilidad inicial\n",
    "\n",
    "Podríamos ver qué onda con una distribución inicial distinta de $\\delta_{0,i}$. Esto podría ser por ejemplo tomar el primer día como distribución inicial y ver ahí."
   ]
  },
  {
   "cell_type": "code",
   "execution_count": 38,
   "metadata": {},
   "outputs": [
    {
     "data": {
      "image/png": "[encoded data removed]",
      "text/plain": [
       "<Figure size 640x480 with 1 Axes>"
      ]
     },
     "metadata": {},
     "output_type": "display_data"
    }
   ],
   "source": [
    "import numpy as np\n",
    "import matplotlib.pyplot as plt\n",
    "import birdepy as bd\n",
    "\n",
    "# Initial distribution:\n",
    "lam = 10.0\n",
    "poisson_dist_sizes = np.arange(1, 101)\n",
    "poisson_probs = [lam**n * np.exp(-lam) / np.math.factorial(n) for n in poisson_dist_sizes]\n",
    "\n",
    "\n",
    "init_dist_sizes = [1, 100]\n",
    "init_dist_probs = [0.99, 0.1]\n",
    "\n",
    "# Parameters for a linear BDP:\n",
    "birth_rate = 1\n",
    "death_rate = 0.1\n",
    "\n",
    "params = [birth_rate, death_rate]\n",
    "\n",
    "# Probability density matrix for init_dist_sizes:\n",
    "\n",
    "def linear_probability_matrix(init_dist_sizes, init_dist_probs, time, params, nmin=1, nmax=1000, method='expm', **kwargs):\n",
    "    \"\"\"\n",
    "    Probability density matrix for linear BDP.\n",
    "    \"\"\"\n",
    "    n = np.arange(nmin, nmax+1)\n",
    "    temp_p = bd.probability(init_dist_sizes, n, time, params, model='linear', method=method, **kwargs)\n",
    "    p = np.zeros(nmax)\n",
    "    for index, prob in enumerate(init_dist_probs):\n",
    "        p += temp_p[index].T * prob\n",
    "\n",
    "    return p.T\n",
    "\n",
    "if __name__ == \"__main__\":\n",
    "    plt.plot((1-np.cumsum(linear_probability_matrix(poisson_dist_sizes, poisson_probs, 10, params, nmin=1, nmax=500, method='expm')))[0:500])\n",
    "    plt.yscale('log')\n",
    "    plt.show()\n"
   ]
  },
  {
   "cell_type": "markdown",
   "metadata": {},
   "source": [
    "# Para la presentación final:\n",
    "\n",
    "- Explicar la física detrás de los modelos (ver Steffan Rulands - modelo de aerosoles)\n",
    "\n",
    "- Ver el primer momento de los clones en función del tiempo (observable independiente de la distribución de clones, puedo tener 2 distribuciones distintas con promedios similares). Así podría evaluar los modelos también.\n",
    "\n",
    "- Contar la historia de comparar 2 tipos de poblaciones con 1 población con tamaño crítico. La dependencia tiene que ser en el tiempo, no en el tamaño crítico. (argumento heurístico: al final del primer intervalo de tiempo voy a tener una dist exponencial. Luego parte un proceso nuevo con una dist inicial exponencial. Con lo de poisson, veo que sigo con una exponencial) (También puedo justificar con Chapman Kolmogorov). Con el tiempo cambiaría la pendiente, pero no aparece una 2da distribución.\n",
    "\n"
   ]
  }
 ],
 "metadata": {
  "kernelspec": {
   "display_name": "Python 3",
   "language": "python",
   "name": "python3"
  },
  "language_info": {
   "codemirror_mode": {
    "name": "ipython",
    "version": 3
   },
   "file_extension": ".py",
   "mimetype": "text/x-python",
   "name": "python",
   "nbconvert_exporter": "python",
   "pygments_lexer": "ipython3",
   "version": "3.11.3"
  },
  "orig_nbformat": 4
 },
 "nbformat": 4,
 "nbformat_minor": 2
}
